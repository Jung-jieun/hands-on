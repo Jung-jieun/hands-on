{
 "cells": [
  {
   "cell_type": "markdown",
   "id": "5761e7e4",
   "metadata": {},
   "source": [
    "- 손으로 쓴 숫자 글씨 데이터셋인 MINST\n",
    "- deeplearning.net이 제공하는 피클 버전을 사용\n",
    "- 훈련셋 50000건, 검증셋 10000건, 테스트셋 10000건의 예제를 포함하며, 모든 예제에 레이블이 부여되어 있다. "
   ]
  },
  {
   "cell_type": "code",
   "execution_count": 1,
   "id": "695556f8",
   "metadata": {},
   "outputs": [],
   "source": [
    "from keras.datasets import mnist\n",
    "import numpy as np\n",
    "import pandas as pd\n",
    "import os, time\n",
    "import pickle, gzip\n",
    "\n",
    "import matplotlib.pyplot as plt\n",
    "import seaborn as sns\n",
    "color = sns.color_palette()\n",
    "import matplotlib as mpl\n",
    "\n",
    "%matplotlib inline\n",
    "\n",
    "from sklearn import preprocessing as pp\n",
    "from sklearn.model_selection import train_test_split\n",
    "from sklearn.metrics import precision_recall_curve, average_precision_score\n",
    "from sklearn.metrics import roc_curve, auc, roc_auc_score"
   ]
  },
  {
   "cell_type": "code",
   "execution_count": 2,
   "id": "6035e17f",
   "metadata": {},
   "outputs": [],
   "source": [
    "download_root = 'MNIST_data/'"
   ]
  },
  {
   "cell_type": "code",
   "execution_count": 3,
   "id": "74425a40",
   "metadata": {},
   "outputs": [],
   "source": [
    "# loading\n",
    "(X_train, y_train), (X_test, y_test) = mnist.load_data()"
   ]
  },
  {
   "cell_type": "code",
   "execution_count": 4,
   "id": "b9f3bad6",
   "metadata": {},
   "outputs": [
    {
     "name": "stdout",
     "output_type": "stream",
     "text": [
      "X_train: (60000, 28, 28)\n",
      "Y_train: (60000,)\n",
      "X_test:  (10000, 28, 28)\n",
      "Y_test:  (10000,)\n"
     ]
    }
   ],
   "source": [
    "#shape of dataset\n",
    "print('X_train: ' + str(X_train.shape))\n",
    "print('Y_train: ' + str(y_train.shape))\n",
    "print('X_test:  '  + str(X_test.shape))\n",
    "print('Y_test:  '  + str(y_test.shape))"
   ]
  },
  {
   "cell_type": "code",
   "execution_count": 5,
   "id": "589ac61f",
   "metadata": {},
   "outputs": [
    {
     "name": "stdout",
     "output_type": "stream",
     "text": [
      "X_train: (50000, 28, 28)\n",
      "Y_train: (50000,)\n",
      "X_validation: (10000, 28, 28)\n",
      "Y_validation: (10000,)\n"
     ]
    }
   ],
   "source": [
    "X_validation = X_train[50000:]\n",
    "y_validation = y_train[50000:]\n",
    "X_train = X_train[:50000]\n",
    "y_train = y_train[:50000]\n",
    "\n",
    "print('X_train: ' + str(X_train.shape))\n",
    "print('Y_train: ' + str(y_train.shape))\n",
    "print('X_validation: ' + str(X_validation.shape))\n",
    "print('Y_validation: ' + str(y_validation.shape))"
   ]
  },
  {
   "cell_type": "code",
   "execution_count": 6,
   "id": "e3637bcb",
   "metadata": {},
   "outputs": [
    {
     "name": "stdout",
     "output_type": "stream",
     "text": [
      "X_train: (50000, 784)\n",
      "X_validation: (10000, 784)\n",
      "X_test: (10000, 784)\n"
     ]
    }
   ],
   "source": [
    "X_train = X_train.reshape(-1,28*28)\n",
    "X_validation = X_validation.reshape(-1, 28*28)\n",
    "X_test = X_test.reshape(-1, 28*28)\n",
    "\n",
    "print('X_train: ' + str(X_train.shape))\n",
    "print('X_validation: ' + str(X_validation.shape))\n",
    "print('X_test: ' + str(X_test.shape))"
   ]
  },
  {
   "cell_type": "code",
   "execution_count": 7,
   "id": "fd521a25",
   "metadata": {},
   "outputs": [],
   "source": [
    "# 데이터셋으로부터 pandas data frame 생성\n",
    "train_index = range(0, len(X_train))\n",
    "validation_index = range(len(X_train), len(X_train)+len(X_validation))\n",
    "test_index = range(len(X_train)+len(X_validation), len(X_train)+len(X_validation)+len(X_test))\n",
    "\n",
    "X_train = pd.DataFrame(data = X_train, index = train_index)\n",
    "y_train = pd.Series(data = y_train, index=train_index)\n",
    "\n",
    "X_validation = pd.DataFrame(data=X_validation, index=validation_index)\n",
    "y_validation = pd.Series(data=y_validation, index=validation_index)\n",
    "\n",
    "X_test = pd.DataFrame(data=X_test, index=test_index)\n",
    "y_test = pd.Series(data=y_test, index=test_index)"
   ]
  },
  {
   "cell_type": "markdown",
   "id": "8dbe057d",
   "metadata": {},
   "source": [
    "- 클러스터링을 수행하기 전에 PCA를 사용해 데이터 차원을 줄인다."
   ]
  },
  {
   "cell_type": "code",
   "execution_count": 8,
   "id": "5f492e0c",
   "metadata": {},
   "outputs": [],
   "source": [
    "from sklearn.decomposition import PCA\n",
    "\n",
    "n_components = 784\n",
    "whiten = False\n",
    "random_state=2018\n",
    "\n",
    "pca = PCA(n_components=n_components, whiten=whiten, random_state=random_state)\n",
    "\n",
    "X_train_PCA = pca.fit_transform(X_train)\n",
    "X_train_PCA = pd.DataFrame(data=X_train_PCA, index=train_index)"
   ]
  },
  {
   "cell_type": "markdown",
   "id": "fb1188aa",
   "metadata": {},
   "source": [
    "- n_jobs는 버전이 업데이트 되면서 사라짐"
   ]
  },
  {
   "cell_type": "markdown",
   "id": "679b7311",
   "metadata": {},
   "source": [
    "### k-평균 관성\n",
    "- 각 관측치와 군집의 중심점 또는 중심 간 유클리드 거리를 최소화하도록 관측치를 다른 군집에 재할당한다."
   ]
  },
  {
   "cell_type": "code",
   "execution_count": 9,
   "id": "2aa443be",
   "metadata": {},
   "outputs": [],
   "source": [
    "# k-평균 - 군집 수 변화에 따른 관성\n",
    "from sklearn.cluster import KMeans\n",
    "\n",
    "n_clusters = 10 # 군집의 수\n",
    "n_init = 10 # 초기화 횟수\n",
    "max_iter = 300 # 최대 반복 횟수\n",
    "tol = 0.0001 # 수렴 허용 오차\n",
    "random_state = 2018\n",
    "\n",
    "kMeans_inertia = pd.DataFrame(data=[], index=range(2,21), columns=['inertia'])\n",
    "for n_clusters in range(2,21):\n",
    "    kmeans = KMeans(n_clusters=n_clusters, n_init=n_init, max_iter=max_iter,\n",
    "                   tol=tol, random_state=random_state)\n",
    "    cutoff = 99 # 주성분 100개 사용\n",
    "    kmeans.fit(X_train_PCA.loc[:,0:cutoff])\n",
    "    kMeans_inertia.loc[n_clusters] = kmeans.inertia_"
   ]
  },
  {
   "cell_type": "code",
   "execution_count": 10,
   "id": "4e5eb791",
   "metadata": {},
   "outputs": [
    {
     "data": {
      "text/plain": [
       "<AxesSubplot:>"
      ]
     },
     "execution_count": 10,
     "metadata": {},
     "output_type": "execute_result"
    },
    {
     "data": {
      "image/png": "[encoded data removed]",
      "text/plain": [
       "<Figure size 432x288 with 1 Axes>"
      ]
     },
     "metadata": {
      "needs_background": "light"
     },
     "output_type": "display_data"
    }
   ],
   "source": [
    "kMeans_inertia.plot()"
   ]
  },
  {
   "cell_type": "markdown",
   "id": "04f78c22",
   "metadata": {},
   "source": [
    "- 군집 수가 증가함에 따라 관성(군집 내 분산)이 감소 -> 군집이 많을수록 각 군집 내 관측치 간 동질성이 커진다는 의미"
   ]
  },
  {
   "cell_type": "markdown",
   "id": "8a0631e5",
   "metadata": {},
   "source": [
    "#### 클러스터링 결과 평가하기"
   ]
  },
  {
   "cell_type": "code",
   "execution_count": 15,
   "id": "ad0457da",
   "metadata": {},
   "outputs": [],
   "source": [
    "def analyzeCluster(clusterDF, labelsDF):\n",
    "    countByCluster = pd.DataFrame(data=clusterDF['cluster'].value_counts())\n",
    "    countByCluster.reset_index(inplace=True, drop=False)\n",
    "    countByCluster.columns = ['cluster', 'clusterCount']\n",
    "    \n",
    "    preds = pd.concat([labelsDF, clusterDF], axis=1)\n",
    "    preds.columns = ['trueLabel', 'cluster']\n",
    "    \n",
    "    countByLabel = pd.DataFrame(data=preds.groupby('trueLabel').count())\n",
    "    \n",
    "    countMostFreq = pd.DataFrame(data=preds.groupby('cluster').agg(lambda x:x.value_counts().iloc[0])) # 가장 자주 발생하는 숫자의 개수\n",
    "    countMostFreq.reset_index(inplace=True, drop=False)\n",
    "    countMostFreq.columns = ['cluster', 'countMostFrequent']\n",
    "    \n",
    "    # 군집의 전체 정확도\n",
    "    accuracyDF = countMostFreq.merge(countByCluster, left_on=\"cluster\", right_on = \"cluster\")\n",
    "    overallAccuracy = accuracyDF.countMostFrequent.sum()/accuracyDF.clusterCount.sum()\n",
    "    # 모든 군집별로 가장 자주 발생하는 관측치 개수 합을 훈련셋의 총 관측치 개수로 나눈 값\n",
    "    \n",
    "    accuracyByLabel = accuracyDF.countMostFrequent/accuracyDF.clusterCount\n",
    "    \n",
    "    return countByCluster, countByLabel, countMostFreq, accuracyDF, overallAccuracy, accuracyByLabel"
   ]
  },
  {
   "cell_type": "code",
   "execution_count": 17,
   "id": "3c8d5c62",
   "metadata": {},
   "outputs": [],
   "source": [
    "# K-평균 - 군집 수에 따른 정확도\n",
    "\n",
    "n_clusters = 5\n",
    "n_init = 10\n",
    "max_iter = 300\n",
    "tol = 0.0001\n",
    "random_state = 2018\n",
    "\n",
    "kMeans_inertia = pd.DataFrame(data=[], index=range(2,21), columns=['inertia'])\n",
    "overallAccuracy_kMeansDF = pd.DataFrame(data=[], index=range(2,21), columns=['overallAccuracy'])\n",
    "\n",
    "for n_clusters in range(2,21):\n",
    "    kmeans = KMeans(n_clusters = n_clusters, n_init = n_init, max_iter = max_iter, tol=tol, random_state=random_state)\n",
    "    cutoff=99\n",
    "    kmeans.fit(X_train_PCA.loc[:,0:cutoff])\n",
    "    kMeans_inertia.loc[n_clusters] = kmeans.inertia_\n",
    "    X_train_kmeansClustered = kmeans.predict(X_train_PCA.loc[:,0:cutoff])\n",
    "    X_train_kmeansClustered = pd.DataFrame(data=X_train_kmeansClustered, index=X_train.index, columns=['cluster'])\n",
    "    \n",
    "    countByCluster_kMeans, countByLabel_kMeans, countMostFreq_kMeans, accuracyDF_kMeans, overallAccuracy_kMeans,\\\n",
    "    accuracyByLabel_kMeans = analyzeCluster(X_train_kmeansClustered, y_train)\n",
    "    \n",
    "    overallAccuracy_kMeansDF.loc[n_clusters] = overallAccuracy_kMeans"
   ]
  },
  {
   "cell_type": "code",
   "execution_count": 19,
   "id": "42f1fcce",
   "metadata": {},
   "outputs": [
    {
     "data": {
      "text/plain": [
       "<AxesSubplot:>"
      ]
     },
     "execution_count": 19,
     "metadata": {},
     "output_type": "execute_result"
    },
    {
     "data": {
      "image/png": "[encoded data removed]",
      "text/plain": [
       "<Figure size 432x288 with 1 Axes>"
      ]
     },
     "metadata": {
      "needs_background": "light"
     },
     "output_type": "display_data"
    }
   ],
   "source": [
    "overallAccuracy_kMeansDF.plot()"
   ]
  },
  {
   "cell_type": "code",
   "execution_count": 20,
   "id": "ff2cdc16",
   "metadata": {},
   "outputs": [
    {
     "data": {
      "text/plain": [
       "0     0.928172\n",
       "1     0.849176\n",
       "2     0.874955\n",
       "3     0.455545\n",
       "4     0.592881\n",
       "5     0.385702\n",
       "6     0.932873\n",
       "7     0.721638\n",
       "8     0.495248\n",
       "9     0.847841\n",
       "10    0.891425\n",
       "11    0.636328\n",
       "12    0.916874\n",
       "13    0.956971\n",
       "14    0.942112\n",
       "15    0.379933\n",
       "16    0.464061\n",
       "17    0.793194\n",
       "18    0.528749\n",
       "19    0.949918\n",
       "dtype: float64"
      ]
     },
     "execution_count": 20,
     "metadata": {},
     "output_type": "execute_result"
    }
   ],
   "source": [
    "accuracyByLabel_kMeans"
   ]
  },
  {
   "cell_type": "markdown",
   "id": "cb013e1b",
   "metadata": {},
   "source": [
    "- 클러스터 수가 증가함에 따라 정확도가 향상, 클러스터가 더욱 동질해짐"
   ]
  },
  {
   "cell_type": "code",
   "execution_count": 32,
   "id": "32019d7f",
   "metadata": {},
   "outputs": [],
   "source": [
    "# K-평균 - 주성분 수에 따른 정확도\n",
    "\n",
    "n_clusters = 20\n",
    "n_init = 10\n",
    "max_iter = 300\n",
    "tol = 0.0001\n",
    "random_state = 2018\n",
    "\n",
    "kMeans_inertia = pd.DataFrame(data=[],index=[9, 49, 99, 199, \\\n",
    "                    299, 399, 499, 599, 699, 783],columns=['inertia'])\n",
    "\n",
    "overallAccuracy_kMeansDF = pd.DataFrame(data=[],index=[9, 49, \\\n",
    "                    99, 199, 299, 399, 499, 599, 699, 783], \\\n",
    "                    columns=['overallAccuracy'])\n",
    "\n",
    "for cutoffNumber in [9, 49, 99, 199, 299, 399, 499, 599, 699, 783]:\n",
    "    kmeans = KMeans(n_clusters=n_clusters, n_init=n_init, \\\n",
    "                max_iter=max_iter, tol=tol, random_state=random_state)\n",
    "\n",
    "    cutoff = cutoffNumber\n",
    "    kmeans.fit(X_train_PCA.loc[:,0:cutoff])\n",
    "    kMeans_inertia.loc[cutoff] = kmeans.inertia_\n",
    "    X_train_kmeansClustered = kmeans.predict(X_train_PCA.loc[:,0:cutoff])\n",
    "    X_train_kmeansClustered = pd.DataFrame(data=X_train_kmeansClustered, \\\n",
    "                                index=X_train.index, columns=['cluster'])\n",
    "    \n",
    "    countByCluster_kMeans, countByLabel_kMeans, countMostFreq_kMeans, \\\n",
    "        accuracyDF_kMeans, overallAccuracy_kMeans, accuracyByLabel_kMeans \\\n",
    "        = analyzeCluster(X_train_kmeansClustered, y_train)\n",
    "    \n",
    "    overallAccuracy_kMeansDF.loc[cutoff] = overallAccuracy_kMeans"
   ]
  },
  {
   "cell_type": "code",
   "execution_count": 33,
   "id": "668d08bd",
   "metadata": {},
   "outputs": [
    {
     "data": {
      "text/plain": [
       "<AxesSubplot:>"
      ]
     },
     "execution_count": 33,
     "metadata": {},
     "output_type": "execute_result"
    },
    {
     "data": {
      "image/png": "[encoded data removed]",
      "text/plain": [
       "<Figure size 432x288 with 1 Axes>"
      ]
     },
     "metadata": {
      "needs_background": "light"
     },
     "output_type": "display_data"
    }
   ],
   "source": [
    "overallAccuracy_kMeansDF.plot()"
   ]
  },
  {
   "cell_type": "markdown",
   "id": "31359692",
   "metadata": {},
   "source": [
    "- 군집 정확도는 안정적이고 일관되게 약 70% 유지 -> 차원 축소된 데이터셋에서 클러스터링을 수행해야 하는 이유"
   ]
  },
  {
   "cell_type": "code",
   "execution_count": 39,
   "id": "d89c1863",
   "metadata": {},
   "outputs": [
    {
     "name": "stderr",
     "output_type": "stream",
     "text": [
      "C:\\Users\\82109\\AppData\\Local\\Temp/ipykernel_13188/1480253582.py:15: ConvergenceWarning: Number of distinct clusters (1) found smaller than n_clusters (20). Possibly due to duplicate points in X.\n",
      "  kmeans.fit(X_train.loc[:,0:cutoff])\n"
     ]
    }
   ],
   "source": [
    "# k-평균 - 주성분 수 변화에 따른 정확도\n",
    "# 원본 MNIST 데이터셋(PCA로 축소되지 않은)\n",
    "\n",
    "n_clusters = 20\n",
    "n_init = 10\n",
    "max_iter = 300\n",
    "tol = 0.0001\n",
    "random_state = 2018\n",
    "\n",
    "kMeans_inertia = pd.DataFrame(data=[], index=[9,49,99,199,299,399,499,599,699,784], columns=['overallAccuracy'])\n",
    "\n",
    "for cutoffNumber in [9,49,99,199,299,399,499,599,699,784]:\n",
    "    kmeans = KMeans(n_clusters=n_clusters, n_init=n_init, max_iter = max_iter, tol=tol, random_state = random_state)\n",
    "    cutoff = cutoffNumber\n",
    "    kmeans.fit(X_train.loc[:,0:cutoff])\n",
    "    kMeans_inertia.loc[cutoff] = kmeans.inertia_\n",
    "    X_train_kmeansClustered = kmeans.predict(X_train.loc[:,0:cutoff])\n",
    "    X_train_kmeansClustered = pd.DataFrame(data=X_train_kmeansClustered, index=X_train.index, columns=['cluster'])\n",
    "    \n",
    "    countByCluster_kMeans, countByLabel_kMeans, countMostFreq_kMeans, accuracyDF_kMeans, overallAccuracy_kMeans,\n",
    "    accuracyByLabel_kMeans = analyzeCluster(X_train_kmeansClustered, y_train)\n",
    "    \n",
    "    overallAccuracy_kMeansDF.loc[cutoff] = overallAccuracy_kMeans"
   ]
  },
  {
   "cell_type": "code",
   "execution_count": 40,
   "id": "5b53d496",
   "metadata": {},
   "outputs": [
    {
     "data": {
      "text/plain": [
       "<AxesSubplot:>"
      ]
     },
     "execution_count": 40,
     "metadata": {},
     "output_type": "execute_result"
    },
    {
     "data": {
      "image/png": "[encoded data removed]",
      "text/plain": [
       "<Figure size 432x288 with 1 Axes>"
      ]
     },
     "metadata": {
      "needs_background": "light"
     },
     "output_type": "display_data"
    }
   ],
   "source": [
    "overallAccuracy_kMeansDF.plot()"
   ]
  },
  {
   "cell_type": "code",
   "execution_count": null,
   "id": "c38dd9a5",
   "metadata": {},
   "outputs": [],
   "source": []
  },
  {
   "cell_type": "code",
   "execution_count": null,
   "id": "f3e5cc7e",
   "metadata": {},
   "outputs": [],
   "source": []
  },
  {
   "cell_type": "code",
   "execution_count": null,
   "id": "95da6d80",
   "metadata": {},
   "outputs": [],
   "source": []
  },
  {
   "cell_type": "code",
   "execution_count": null,
   "id": "7a43e64a",
   "metadata": {},
   "outputs": [],
   "source": []
  },
  {
   "cell_type": "code",
   "execution_count": null,
   "id": "fc91d26f",
   "metadata": {},
   "outputs": [],
   "source": []
  },
  {
   "cell_type": "code",
   "execution_count": null,
   "id": "d1df0306",
   "metadata": {},
   "outputs": [],
   "source": []
  },
  {
   "cell_type": "code",
   "execution_count": null,
   "id": "f1a41441",
   "metadata": {},
   "outputs": [],
   "source": []
  },
  {
   "cell_type": "code",
   "execution_count": null,
   "id": "f17313c5",
   "metadata": {},
   "outputs": [],
   "source": []
  },
  {
   "cell_type": "code",
   "execution_count": null,
   "id": "23cfe25d",
   "metadata": {},
   "outputs": [],
   "source": []
  },
  {
   "cell_type": "code",
   "execution_count": null,
   "id": "1abe9857",
   "metadata": {},
   "outputs": [],
   "source": []
  },
  {
   "cell_type": "code",
   "execution_count": null,
   "id": "4b385cdd",
   "metadata": {},
   "outputs": [],
   "source": []
  },
  {
   "cell_type": "code",
   "execution_count": null,
   "id": "7f1a9398",
   "metadata": {},
   "outputs": [],
   "source": []
  }
 ],
 "metadata": {
  "kernelspec": {
   "display_name": "Python 3 (ipykernel)",
   "language": "python",
   "name": "python3"
  },
  "language_info": {
   "codemirror_mode": {
    "name": "ipython",
    "version": 3
   },
   "file_extension": ".py",
   "mimetype": "text/x-python",
   "name": "python",
   "nbconvert_exporter": "python",
   "pygments_lexer": "ipython3",
   "version": "3.9.7"
  }
 },
 "nbformat": 4,
 "nbformat_minor": 5
}
