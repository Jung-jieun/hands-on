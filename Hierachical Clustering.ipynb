{
 "cells": [
  {
   "cell_type": "markdown",
   "id": "06efdd86",
   "metadata": {},
   "source": [
    "#### 계층적 군집화(hierachical clustering)는 여러개의 군집 중에서 가장 유사도가 높은 혹은 거리가 가까운 군집 두 개를 선택하여 하나로 합치면서 군집 개수를 줄여 가는 방법을 말한다. 가장 처음에는 모든 군집이 하나의 데이터만을 가진다. 따라서 최초에는 데이터 개수만큼 군집이 존재하지만 군집을 합치면서 최종적으로 하나의 군집만 남게 된다."
   ]
  },
  {
   "cell_type": "code",
   "execution_count": 1,
   "id": "3cfc1beb",
   "metadata": {},
   "outputs": [],
   "source": [
    "from keras.datasets import mnist\n",
    "import numpy as np\n",
    "import pandas as pd\n",
    "import os, time\n",
    "import pickle, gzip\n",
    "\n",
    "import matplotlib.pyplot as plt\n",
    "import seaborn as sns\n",
    "color = sns.color_palette()\n",
    "import matplotlib as mpl\n",
    "\n",
    "%matplotlib inline\n",
    "\n",
    "from sklearn import preprocessing as pp\n",
    "from sklearn.model_selection import train_test_split\n",
    "from sklearn.metrics import precision_recall_curve, average_precision_score\n",
    "from sklearn.metrics import roc_curve, auc, roc_auc_score"
   ]
  },
  {
   "cell_type": "code",
   "execution_count": 2,
   "id": "9a819abb",
   "metadata": {},
   "outputs": [],
   "source": [
    "download_root = 'MNIST_data/'"
   ]
  },
  {
   "cell_type": "code",
   "execution_count": 3,
   "id": "7cfc41ed",
   "metadata": {},
   "outputs": [],
   "source": [
    "(X_train, y_train), (X_test, y_test) = mnist.load_data()"
   ]
  },
  {
   "cell_type": "code",
   "execution_count": 4,
   "id": "1b644627",
   "metadata": {},
   "outputs": [],
   "source": [
    "X_validation = X_train[50000:]\n",
    "y_validation = y_train[50000:]\n",
    "X_train = X_train[:50000]\n",
    "y_train = y_train[:50000]\n",
    "X_train = X_train.reshape(-1,28*28)\n",
    "X_validation = X_validation.reshape(-1, 28*28)\n",
    "X_test = X_test.reshape(-1, 28*28)"
   ]
  },
  {
   "cell_type": "code",
   "execution_count": 5,
   "id": "88ae7b7b",
   "metadata": {},
   "outputs": [],
   "source": [
    "train_index = range(0, len(X_train))\n",
    "validation_index = range(len(X_train), len(X_train)+len(X_validation))\n",
    "test_index = range(len(X_train)+len(X_validation), len(X_train)+len(X_validation)+len(X_test))\n",
    "\n",
    "X_train = pd.DataFrame(data = X_train, index = train_index)\n",
    "y_train = pd.Series(data = y_train, index=train_index)\n",
    "\n",
    "X_validation = pd.DataFrame(data=X_validation, index=validation_index)\n",
    "y_validation = pd.Series(data=y_validation, index=validation_index)\n",
    "\n",
    "X_test = pd.DataFrame(data=X_test, index=test_index)\n",
    "y_test = pd.Series(data=y_test, index=test_index)"
   ]
  },
  {
   "cell_type": "code",
   "execution_count": 6,
   "id": "f5986184",
   "metadata": {},
   "outputs": [],
   "source": [
    "from sklearn.decomposition import PCA\n",
    "\n",
    "n_components = 784\n",
    "whiten = False\n",
    "random_state=2018\n",
    "\n",
    "pca = PCA(n_components=n_components, whiten=whiten, random_state=random_state)\n",
    "\n",
    "X_train_PCA = pca.fit_transform(X_train)\n",
    "X_train_PCA = pd.DataFrame(data=X_train_PCA, index=train_index)"
   ]
  },
  {
   "cell_type": "markdown",
   "id": "9f2fa60b",
   "metadata": {},
   "source": [
    "- Ward's minimum variance method(https://en.wikipedia.org/wiki/Ward's_method)"
   ]
  },
  {
   "cell_type": "markdown",
   "id": "b2e21b7b",
   "metadata": {},
   "source": [
    "### fastcluster 계층적 클러스터링 사용"
   ]
  },
  {
   "cell_type": "code",
   "execution_count": 9,
   "id": "bc961c2d",
   "metadata": {},
   "outputs": [],
   "source": [
    "import fastcluster\n",
    "from scipy.cluster.hierarchy import dendrogram, cophenet\n",
    "from scipy.spatial.distance import pdist\n",
    "\n",
    "cutoff = 99\n",
    "Z = fastcluster.linkage_vector(X_train_PCA.loc[:, 0:cutoff], method='ward', metric='euclidean')\n",
    "Z_dataFrame = pd.DataFrame(data=Z, columns=['clusterOne', 'clusterTwo', 'distance','newClusterSize'])"
   ]
  },
  {
   "cell_type": "markdown",
   "id": "692fdf38",
   "metadata": {},
   "source": [
    "- 행렬 Z를 반환\n",
    "- 50000개 MNIST 데이터셋의 각 관측치를 단일 포인트 군집으로 처리하고 각 반복 훈련마다 최소 거리를 가진 두 군집을 병합한다. "
   ]
  },
  {
   "cell_type": "code",
   "execution_count": 10,
   "id": "ae3f416c",
   "metadata": {},
   "outputs": [
    {
     "data": {
      "text/html": [
       "<div>\n",
       "<style scoped>\n",
       "    .dataframe tbody tr th:only-of-type {\n",
       "        vertical-align: middle;\n",
       "    }\n",
       "\n",
       "    .dataframe tbody tr th {\n",
       "        vertical-align: top;\n",
       "    }\n",
       "\n",
       "    .dataframe thead th {\n",
       "        text-align: right;\n",
       "    }\n",
       "</style>\n",
       "<table border=\"1\" class=\"dataframe\">\n",
       "  <thead>\n",
       "    <tr style=\"text-align: right;\">\n",
       "      <th></th>\n",
       "      <th>clusterOne</th>\n",
       "      <th>clusterTwo</th>\n",
       "      <th>distance</th>\n",
       "      <th>newClusterSize</th>\n",
       "    </tr>\n",
       "  </thead>\n",
       "  <tbody>\n",
       "    <tr>\n",
       "      <th>0</th>\n",
       "      <td>42194.0</td>\n",
       "      <td>43025.0</td>\n",
       "      <td>144.046690</td>\n",
       "      <td>2.0</td>\n",
       "    </tr>\n",
       "    <tr>\n",
       "      <th>1</th>\n",
       "      <td>28350.0</td>\n",
       "      <td>37674.0</td>\n",
       "      <td>151.261716</td>\n",
       "      <td>2.0</td>\n",
       "    </tr>\n",
       "    <tr>\n",
       "      <th>2</th>\n",
       "      <td>26696.0</td>\n",
       "      <td>44705.0</td>\n",
       "      <td>159.105543</td>\n",
       "      <td>2.0</td>\n",
       "    </tr>\n",
       "    <tr>\n",
       "      <th>3</th>\n",
       "      <td>12634.0</td>\n",
       "      <td>32823.0</td>\n",
       "      <td>160.706973</td>\n",
       "      <td>2.0</td>\n",
       "    </tr>\n",
       "    <tr>\n",
       "      <th>4</th>\n",
       "      <td>24707.0</td>\n",
       "      <td>43151.0</td>\n",
       "      <td>163.242960</td>\n",
       "      <td>2.0</td>\n",
       "    </tr>\n",
       "    <tr>\n",
       "      <th>5</th>\n",
       "      <td>20465.0</td>\n",
       "      <td>24483.0</td>\n",
       "      <td>169.614567</td>\n",
       "      <td>2.0</td>\n",
       "    </tr>\n",
       "    <tr>\n",
       "      <th>6</th>\n",
       "      <td>466.0</td>\n",
       "      <td>42098.0</td>\n",
       "      <td>170.032414</td>\n",
       "      <td>2.0</td>\n",
       "    </tr>\n",
       "    <tr>\n",
       "      <th>7</th>\n",
       "      <td>46542.0</td>\n",
       "      <td>49961.0</td>\n",
       "      <td>170.373039</td>\n",
       "      <td>2.0</td>\n",
       "    </tr>\n",
       "    <tr>\n",
       "      <th>8</th>\n",
       "      <td>2301.0</td>\n",
       "      <td>5732.0</td>\n",
       "      <td>171.831144</td>\n",
       "      <td>2.0</td>\n",
       "    </tr>\n",
       "    <tr>\n",
       "      <th>9</th>\n",
       "      <td>37564.0</td>\n",
       "      <td>47668.0</td>\n",
       "      <td>172.831073</td>\n",
       "      <td>2.0</td>\n",
       "    </tr>\n",
       "    <tr>\n",
       "      <th>10</th>\n",
       "      <td>3375.0</td>\n",
       "      <td>26243.0</td>\n",
       "      <td>175.564125</td>\n",
       "      <td>2.0</td>\n",
       "    </tr>\n",
       "    <tr>\n",
       "      <th>11</th>\n",
       "      <td>15722.0</td>\n",
       "      <td>30368.0</td>\n",
       "      <td>175.707166</td>\n",
       "      <td>2.0</td>\n",
       "    </tr>\n",
       "    <tr>\n",
       "      <th>12</th>\n",
       "      <td>21247.0</td>\n",
       "      <td>21575.0</td>\n",
       "      <td>177.769391</td>\n",
       "      <td>2.0</td>\n",
       "    </tr>\n",
       "    <tr>\n",
       "      <th>13</th>\n",
       "      <td>14900.0</td>\n",
       "      <td>42486.0</td>\n",
       "      <td>178.372786</td>\n",
       "      <td>2.0</td>\n",
       "    </tr>\n",
       "    <tr>\n",
       "      <th>14</th>\n",
       "      <td>30100.0</td>\n",
       "      <td>41908.0</td>\n",
       "      <td>179.010803</td>\n",
       "      <td>2.0</td>\n",
       "    </tr>\n",
       "    <tr>\n",
       "      <th>15</th>\n",
       "      <td>12040.0</td>\n",
       "      <td>13254.0</td>\n",
       "      <td>179.490302</td>\n",
       "      <td>2.0</td>\n",
       "    </tr>\n",
       "    <tr>\n",
       "      <th>16</th>\n",
       "      <td>10508.0</td>\n",
       "      <td>25434.0</td>\n",
       "      <td>181.471343</td>\n",
       "      <td>2.0</td>\n",
       "    </tr>\n",
       "    <tr>\n",
       "      <th>17</th>\n",
       "      <td>30695.0</td>\n",
       "      <td>30757.0</td>\n",
       "      <td>181.766016</td>\n",
       "      <td>2.0</td>\n",
       "    </tr>\n",
       "    <tr>\n",
       "      <th>18</th>\n",
       "      <td>31019.0</td>\n",
       "      <td>31033.0</td>\n",
       "      <td>182.285349</td>\n",
       "      <td>2.0</td>\n",
       "    </tr>\n",
       "    <tr>\n",
       "      <th>19</th>\n",
       "      <td>36264.0</td>\n",
       "      <td>37285.0</td>\n",
       "      <td>182.561197</td>\n",
       "      <td>2.0</td>\n",
       "    </tr>\n",
       "  </tbody>\n",
       "</table>\n",
       "</div>"
      ],
      "text/plain": [
       "    clusterOne  clusterTwo    distance  newClusterSize\n",
       "0      42194.0     43025.0  144.046690             2.0\n",
       "1      28350.0     37674.0  151.261716             2.0\n",
       "2      26696.0     44705.0  159.105543             2.0\n",
       "3      12634.0     32823.0  160.706973             2.0\n",
       "4      24707.0     43151.0  163.242960             2.0\n",
       "5      20465.0     24483.0  169.614567             2.0\n",
       "6        466.0     42098.0  170.032414             2.0\n",
       "7      46542.0     49961.0  170.373039             2.0\n",
       "8       2301.0      5732.0  171.831144             2.0\n",
       "9      37564.0     47668.0  172.831073             2.0\n",
       "10      3375.0     26243.0  175.564125             2.0\n",
       "11     15722.0     30368.0  175.707166             2.0\n",
       "12     21247.0     21575.0  177.769391             2.0\n",
       "13     14900.0     42486.0  178.372786             2.0\n",
       "14     30100.0     41908.0  179.010803             2.0\n",
       "15     12040.0     13254.0  179.490302             2.0\n",
       "16     10508.0     25434.0  181.471343             2.0\n",
       "17     30695.0     30757.0  181.766016             2.0\n",
       "18     31019.0     31033.0  182.285349             2.0\n",
       "19     36264.0     37285.0  182.561197             2.0"
      ]
     },
     "execution_count": 10,
     "metadata": {},
     "output_type": "execute_result"
    }
   ],
   "source": [
    "Z_dataFrame[:20]"
   ]
  },
  {
   "cell_type": "code",
   "execution_count": 42,
   "id": "a35627c5",
   "metadata": {},
   "outputs": [
    {
     "data": {
      "text/html": [
       "<div>\n",
       "<style scoped>\n",
       "    .dataframe tbody tr th:only-of-type {\n",
       "        vertical-align: middle;\n",
       "    }\n",
       "\n",
       "    .dataframe tbody tr th {\n",
       "        vertical-align: top;\n",
       "    }\n",
       "\n",
       "    .dataframe thead th {\n",
       "        text-align: right;\n",
       "    }\n",
       "</style>\n",
       "<table border=\"1\" class=\"dataframe\">\n",
       "  <thead>\n",
       "    <tr style=\"text-align: right;\">\n",
       "      <th></th>\n",
       "      <th>clusterOne</th>\n",
       "      <th>clusterTwo</th>\n",
       "      <th>distance</th>\n",
       "      <th>newClusterSize</th>\n",
       "    </tr>\n",
       "  </thead>\n",
       "  <tbody>\n",
       "    <tr>\n",
       "      <th>49980</th>\n",
       "      <td>99965.0</td>\n",
       "      <td>99972.0</td>\n",
       "      <td>41243.391562</td>\n",
       "      <td>5197.0</td>\n",
       "    </tr>\n",
       "    <tr>\n",
       "      <th>49981</th>\n",
       "      <td>99932.0</td>\n",
       "      <td>99980.0</td>\n",
       "      <td>44049.920836</td>\n",
       "      <td>6505.0</td>\n",
       "    </tr>\n",
       "    <tr>\n",
       "      <th>49982</th>\n",
       "      <td>99945.0</td>\n",
       "      <td>99960.0</td>\n",
       "      <td>46807.260059</td>\n",
       "      <td>3245.0</td>\n",
       "    </tr>\n",
       "    <tr>\n",
       "      <th>49983</th>\n",
       "      <td>99964.0</td>\n",
       "      <td>99976.0</td>\n",
       "      <td>47225.794701</td>\n",
       "      <td>3683.0</td>\n",
       "    </tr>\n",
       "    <tr>\n",
       "      <th>49984</th>\n",
       "      <td>99974.0</td>\n",
       "      <td>99979.0</td>\n",
       "      <td>47367.128897</td>\n",
       "      <td>7744.0</td>\n",
       "    </tr>\n",
       "    <tr>\n",
       "      <th>49985</th>\n",
       "      <td>99940.0</td>\n",
       "      <td>99975.0</td>\n",
       "      <td>47448.372962</td>\n",
       "      <td>5596.0</td>\n",
       "    </tr>\n",
       "    <tr>\n",
       "      <th>49986</th>\n",
       "      <td>99957.0</td>\n",
       "      <td>99967.0</td>\n",
       "      <td>54234.806771</td>\n",
       "      <td>5957.0</td>\n",
       "    </tr>\n",
       "    <tr>\n",
       "      <th>49987</th>\n",
       "      <td>99938.0</td>\n",
       "      <td>99983.0</td>\n",
       "      <td>55166.683285</td>\n",
       "      <td>4846.0</td>\n",
       "    </tr>\n",
       "    <tr>\n",
       "      <th>49988</th>\n",
       "      <td>99978.0</td>\n",
       "      <td>99984.0</td>\n",
       "      <td>55490.653402</td>\n",
       "      <td>11072.0</td>\n",
       "    </tr>\n",
       "    <tr>\n",
       "      <th>49989</th>\n",
       "      <td>99970.0</td>\n",
       "      <td>99973.0</td>\n",
       "      <td>55643.103011</td>\n",
       "      <td>4899.0</td>\n",
       "    </tr>\n",
       "    <tr>\n",
       "      <th>49990</th>\n",
       "      <td>99969.0</td>\n",
       "      <td>99986.0</td>\n",
       "      <td>57719.884188</td>\n",
       "      <td>8270.0</td>\n",
       "    </tr>\n",
       "    <tr>\n",
       "      <th>49991</th>\n",
       "      <td>99981.0</td>\n",
       "      <td>99982.0</td>\n",
       "      <td>61144.354474</td>\n",
       "      <td>9750.0</td>\n",
       "    </tr>\n",
       "    <tr>\n",
       "      <th>49992</th>\n",
       "      <td>99968.0</td>\n",
       "      <td>99977.0</td>\n",
       "      <td>68133.576077</td>\n",
       "      <td>5567.0</td>\n",
       "    </tr>\n",
       "    <tr>\n",
       "      <th>49993</th>\n",
       "      <td>99985.0</td>\n",
       "      <td>99989.0</td>\n",
       "      <td>69357.939935</td>\n",
       "      <td>10495.0</td>\n",
       "    </tr>\n",
       "    <tr>\n",
       "      <th>49994</th>\n",
       "      <td>99990.0</td>\n",
       "      <td>99991.0</td>\n",
       "      <td>88791.282587</td>\n",
       "      <td>18020.0</td>\n",
       "    </tr>\n",
       "    <tr>\n",
       "      <th>49995</th>\n",
       "      <td>99988.0</td>\n",
       "      <td>99993.0</td>\n",
       "      <td>100957.489760</td>\n",
       "      <td>21567.0</td>\n",
       "    </tr>\n",
       "    <tr>\n",
       "      <th>49996</th>\n",
       "      <td>99987.0</td>\n",
       "      <td>99995.0</td>\n",
       "      <td>108836.451002</td>\n",
       "      <td>26413.0</td>\n",
       "    </tr>\n",
       "    <tr>\n",
       "      <th>49997</th>\n",
       "      <td>99992.0</td>\n",
       "      <td>99994.0</td>\n",
       "      <td>112677.965179</td>\n",
       "      <td>23587.0</td>\n",
       "    </tr>\n",
       "    <tr>\n",
       "      <th>49998</th>\n",
       "      <td>99996.0</td>\n",
       "      <td>99997.0</td>\n",
       "      <td>126562.269570</td>\n",
       "      <td>50000.0</td>\n",
       "    </tr>\n",
       "  </tbody>\n",
       "</table>\n",
       "</div>"
      ],
      "text/plain": [
       "       clusterOne  clusterTwo       distance  newClusterSize\n",
       "49980     99965.0     99972.0   41243.391562          5197.0\n",
       "49981     99932.0     99980.0   44049.920836          6505.0\n",
       "49982     99945.0     99960.0   46807.260059          3245.0\n",
       "49983     99964.0     99976.0   47225.794701          3683.0\n",
       "49984     99974.0     99979.0   47367.128897          7744.0\n",
       "49985     99940.0     99975.0   47448.372962          5596.0\n",
       "49986     99957.0     99967.0   54234.806771          5957.0\n",
       "49987     99938.0     99983.0   55166.683285          4846.0\n",
       "49988     99978.0     99984.0   55490.653402         11072.0\n",
       "49989     99970.0     99973.0   55643.103011          4899.0\n",
       "49990     99969.0     99986.0   57719.884188          8270.0\n",
       "49991     99981.0     99982.0   61144.354474          9750.0\n",
       "49992     99968.0     99977.0   68133.576077          5567.0\n",
       "49993     99985.0     99989.0   69357.939935         10495.0\n",
       "49994     99990.0     99991.0   88791.282587         18020.0\n",
       "49995     99988.0     99993.0  100957.489760         21567.0\n",
       "49996     99987.0     99995.0  108836.451002         26413.0\n",
       "49997     99992.0     99994.0  112677.965179         23587.0\n",
       "49998     99996.0     99997.0  126562.269570         50000.0"
      ]
     },
     "execution_count": 42,
     "metadata": {},
     "output_type": "execute_result"
    }
   ],
   "source": [
    "Z_dataFrame[49980:]"
   ]
  },
  {
   "cell_type": "markdown",
   "id": "f9107b28",
   "metadata": {},
   "source": [
    "- 거리가 단조롭게 증가\n",
    "- 최단 거리 군집이 먼저 병합되고 모든 점이 덴드로그램 가장 위에 있는 단일 군집으로 결합될 때까지 다음 최단 거리 군집을 반복적으로 병합"
   ]
  },
  {
   "cell_type": "markdown",
   "id": "f8aa7051",
   "metadata": {},
   "source": [
    "### 클러스터링 결과 평가하기"
   ]
  },
  {
   "cell_type": "markdown",
   "id": "26c259c2",
   "metadata": {},
   "source": [
    "- 20개의 군집을 갖도록 덴드로그램을 자름\n",
    "- 덴드로그램의 거리 임계값을 설정해 개별 군집을 얼마나 많이 남겨야 하는지 결정해야 한다.\n",
    "- 거리 임곗값이 클수록 군집 수는 줄어든다.\n",
    "- fcluster 라이브러리는 우리가 지정한 거리 임곗값으로 덴드로그램을 잘라낸다."
   ]
  },
  {
   "cell_type": "code",
   "execution_count": 40,
   "id": "c79b9eab",
   "metadata": {},
   "outputs": [],
   "source": [
    "from scipy.cluster.hierarchy import fcluster\n",
    "\n",
    "distance_threshold = 41000\n",
    "clusters = fcluster(Z, distance_threshold, criterion = 'distance')\n",
    "X_train_hierClustered = pd.DataFrame(data = clusters, index = X_train_PCA.index, columns=['cluster'])"
   ]
  },
  {
   "cell_type": "code",
   "execution_count": 41,
   "id": "46f032f3",
   "metadata": {},
   "outputs": [
    {
     "name": "stdout",
     "output_type": "stream",
     "text": [
      "Number of distinct clusters:  20\n"
     ]
    }
   ],
   "source": [
    "print(\"Number of distinct clusters: \", len(X_train_hierClustered['cluster'].unique()))"
   ]
  },
  {
   "cell_type": "code",
   "execution_count": 44,
   "id": "fe32b01e",
   "metadata": {},
   "outputs": [],
   "source": [
    "def analyzeCluster(clusterDF, labelsDF):\n",
    "    countByCluster = pd.DataFrame(data=clusterDF['cluster'].value_counts())\n",
    "    countByCluster.reset_index(inplace=True, drop=False)\n",
    "    countByCluster.columns = ['cluster', 'clusterCount']\n",
    "    \n",
    "    preds = pd.concat([labelsDF, clusterDF], axis=1)\n",
    "    preds.columns = ['trueLabel', 'cluster']\n",
    "    \n",
    "    countByLabel = pd.DataFrame(data=preds.groupby('trueLabel').count())\n",
    "    \n",
    "    countMostFreq = pd.DataFrame(data=preds.groupby('cluster').agg(lambda x:x.value_counts().iloc[0])) # 가장 자주 발생하는 숫자의 개수\n",
    "    countMostFreq.reset_index(inplace=True, drop=False)\n",
    "    countMostFreq.columns = ['cluster', 'countMostFrequent']\n",
    "    \n",
    "    # 군집의 전체 정확도\n",
    "    accuracyDF = countMostFreq.merge(countByCluster, left_on=\"cluster\", right_on = \"cluster\")\n",
    "    overallAccuracy = accuracyDF.countMostFrequent.sum()/accuracyDF.clusterCount.sum()\n",
    "    # 모든 군집별로 가장 자주 발생하는 관측치 개수 합을 훈련셋의 총 관측치 개수로 나눈 값\n",
    "    \n",
    "    accuracyByLabel = accuracyDF.countMostFrequent/accuracyDF.clusterCount\n",
    "    \n",
    "    return countByCluster, countByLabel, countMostFreq, accuracyDF, overallAccuracy, accuracyByLabel"
   ]
  },
  {
   "cell_type": "code",
   "execution_count": 45,
   "id": "22f4741e",
   "metadata": {},
   "outputs": [
    {
     "name": "stdout",
     "output_type": "stream",
     "text": [
      "Overall accuracy from hierarchical clustering:  0.76882\n"
     ]
    }
   ],
   "source": [
    "countByCluster_hierClust, countByLabel_hierClust, countMostFreq_hierClust,\\\n",
    "accuracyDF_hierClust, overallAccuracy_hierClust, accuracyByLabel_hierClust = analyzeCluster(X_train_hierClustered, y_train)\n",
    "\n",
    "print(\"Overall accuracy from hierarchical clustering: \", overallAccuracy_hierClust)"
   ]
  },
  {
   "cell_type": "code",
   "execution_count": 46,
   "id": "28451b1e",
   "metadata": {},
   "outputs": [
    {
     "data": {
      "text/plain": [
       "0     0.987962\n",
       "1     0.983727\n",
       "2     0.988998\n",
       "3     0.597356\n",
       "4     0.678642\n",
       "5     0.442478\n",
       "6     0.950033\n",
       "7     0.829060\n",
       "8     0.976062\n",
       "9     0.986141\n",
       "10    0.990183\n",
       "11    0.992183\n",
       "12    0.971033\n",
       "13    0.554273\n",
       "14    0.553617\n",
       "15    0.720183\n",
       "16    0.538891\n",
       "17    0.484590\n",
       "18    0.957732\n",
       "19    0.977310\n",
       "dtype: float64"
      ]
     },
     "execution_count": 46,
     "metadata": {},
     "output_type": "execute_result"
    }
   ],
   "source": [
    "# 군집별 정확도 평가\n",
    "accuracyByLabel_hierClust"
   ]
  },
  {
   "cell_type": "markdown",
   "id": "07c12c50",
   "metadata": {},
   "source": [
    "### 사이파이 패키지의 linkage 명령 사용"
   ]
  },
  {
   "cell_type": "code",
   "execution_count": 48,
   "id": "7671fcb3",
   "metadata": {},
   "outputs": [
    {
     "data": {
      "image/png": "[encoded data removed]",
      "text/plain": [
       "<Figure size 864x72 with 20 Axes>"
      ]
     },
     "metadata": {},
     "output_type": "display_data"
    }
   ],
   "source": [
    "from sklearn.datasets import load_digits\n",
    "\n",
    "digits = load_digits()\n",
    "n_image = 20\n",
    "np.random.seed(0)\n",
    "idx = np.random.choice(range(len(digits.images)), n_image)\n",
    "X = digits.data[idx]\n",
    "images = digits.images[idx]\n",
    "\n",
    "plt.figure(figsize=(12,1))\n",
    "for i in range(n_image):\n",
    "    plt.subplot(1, n_image, i+1)\n",
    "    plt.imshow(images[i], cmap=plt.cm.bone)\n",
    "    plt.grid(False)\n",
    "    plt.xticks(())\n",
    "    plt.yticks(())\n",
    "    plt.title(i)"
   ]
  },
  {
   "cell_type": "code",
   "execution_count": 49,
   "id": "b20fbbe6",
   "metadata": {},
   "outputs": [
    {
     "data": {
      "text/plain": [
       "array([[ 3.        , 18.        , 23.51595203,  2.        ],\n",
       "       [13.        , 19.        , 25.27844932,  2.        ],\n",
       "       [ 1.        , 14.        , 28.67054237,  2.        ],\n",
       "       [17.        , 21.        , 31.04298096,  3.        ],\n",
       "       [ 4.        ,  7.        , 31.51190251,  2.        ],\n",
       "       [ 6.        ,  8.        , 32.54228019,  2.        ],\n",
       "       [ 9.        , 10.        , 33.36165464,  2.        ],\n",
       "       [ 0.        , 24.        , 34.51086785,  3.        ],\n",
       "       [ 2.        , 22.        , 37.03151811,  3.        ],\n",
       "       [11.        , 26.        , 43.25505751,  3.        ],\n",
       "       [12.        , 15.        , 45.31004304,  2.        ],\n",
       "       [16.        , 20.        , 45.36151085,  3.        ],\n",
       "       [ 5.        , 27.        , 53.54437412,  4.        ],\n",
       "       [30.        , 32.        , 56.6892112 ,  6.        ],\n",
       "       [25.        , 29.        , 60.16809786,  5.        ],\n",
       "       [28.        , 34.        , 66.61618922,  8.        ],\n",
       "       [31.        , 33.        , 70.35228813,  9.        ],\n",
       "       [23.        , 36.        , 80.11172754, 12.        ],\n",
       "       [35.        , 37.        , 93.57946712, 20.        ]])"
      ]
     },
     "execution_count": 49,
     "metadata": {},
     "output_type": "execute_result"
    }
   ],
   "source": [
    "from scipy.cluster.hierarchy import linkage, dendrogram\n",
    "\n",
    "Z = linkage(X, 'ward')\n",
    "Z"
   ]
  },
  {
   "cell_type": "code",
   "execution_count": 51,
   "id": "0c9b2705",
   "metadata": {},
   "outputs": [
    {
     "data": {
      "image/png": "[encoded data removed]",
      "text/plain": [
       "<Figure size 720x288 with 1 Axes>"
      ]
     },
     "metadata": {
      "needs_background": "light"
     },
     "output_type": "display_data"
    }
   ],
   "source": [
    "from matplotlib.offsetbox import OffsetImage, AnnotationBbox\n",
    "\n",
    "plt.figure(figsize=(10, 4))\n",
    "ax = plt.subplot()\n",
    "\n",
    "ddata = dendrogram(Z)\n",
    "\n",
    "dcoord = np.array(ddata[\"dcoord\"])\n",
    "icoord = np.array(ddata[\"icoord\"])\n",
    "leaves = np.array(ddata[\"leaves\"])\n",
    "idx = np.argsort(dcoord[:, 2])\n",
    "dcoord = dcoord[idx, :]\n",
    "icoord = icoord[idx, :]\n",
    "idx = np.argsort(Z[:, :2].ravel())\n",
    "label_pos = icoord[:, 1:3].ravel()[idx][:20]\n",
    "\n",
    "for i in range(20):\n",
    "    imagebox = OffsetImage(images[i], cmap=plt.cm.bone_r, interpolation = \"bilinear\", zoom=3)\n",
    "    ab = AnnotationBbox(imagebox, (label_pos[i], 0), box_alignment=(0.5, -0.1),\n",
    "                       bboxprops = {\"edgecolor\" : \"none\"})\n",
    "    ax.add_artist(ab)\n",
    "    \n",
    "plt.show()"
   ]
  },
  {
   "cell_type": "code",
   "execution_count": null,
   "id": "445e8ad1",
   "metadata": {},
   "outputs": [],
   "source": []
  },
  {
   "cell_type": "code",
   "execution_count": null,
   "id": "a6c9706d",
   "metadata": {},
   "outputs": [],
   "source": []
  },
  {
   "cell_type": "code",
   "execution_count": null,
   "id": "b36f510c",
   "metadata": {},
   "outputs": [],
   "source": []
  },
  {
   "cell_type": "code",
   "execution_count": null,
   "id": "39c9552e",
   "metadata": {},
   "outputs": [],
   "source": []
  },
  {
   "cell_type": "code",
   "execution_count": null,
   "id": "f38882e2",
   "metadata": {},
   "outputs": [],
   "source": []
  },
  {
   "cell_type": "code",
   "execution_count": null,
   "id": "f1f7b69f",
   "metadata": {},
   "outputs": [],
   "source": []
  },
  {
   "cell_type": "code",
   "execution_count": null,
   "id": "479f33e1",
   "metadata": {},
   "outputs": [],
   "source": []
  },
  {
   "cell_type": "code",
   "execution_count": null,
   "id": "4b7a5396",
   "metadata": {},
   "outputs": [],
   "source": []
  },
  {
   "cell_type": "code",
   "execution_count": null,
   "id": "0efabbdf",
   "metadata": {},
   "outputs": [],
   "source": []
  },
  {
   "cell_type": "code",
   "execution_count": null,
   "id": "f4085241",
   "metadata": {},
   "outputs": [],
   "source": []
  },
  {
   "cell_type": "code",
   "execution_count": null,
   "id": "0fc84647",
   "metadata": {},
   "outputs": [],
   "source": []
  },
  {
   "cell_type": "code",
   "execution_count": null,
   "id": "c6f55767",
   "metadata": {},
   "outputs": [],
   "source": []
  },
  {
   "cell_type": "code",
   "execution_count": null,
   "id": "b21af05e",
   "metadata": {},
   "outputs": [],
   "source": []
  },
  {
   "cell_type": "code",
   "execution_count": null,
   "id": "16c55c76",
   "metadata": {},
   "outputs": [],
   "source": []
  },
  {
   "cell_type": "code",
   "execution_count": null,
   "id": "a1f55607",
   "metadata": {},
   "outputs": [],
   "source": []
  }
 ],
 "metadata": {
  "kernelspec": {
   "display_name": "Python 3 (ipykernel)",
   "language": "python",
   "name": "python3"
  },
  "language_info": {
   "codemirror_mode": {
    "name": "ipython",
    "version": 3
   },
   "file_extension": ".py",
   "mimetype": "text/x-python",
   "name": "python",
   "nbconvert_exporter": "python",
   "pygments_lexer": "ipython3",
   "version": "3.9.7"
  }
 },
 "nbformat": 4,
 "nbformat_minor": 5
}
