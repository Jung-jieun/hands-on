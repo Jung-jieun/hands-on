{
 "cells": [
  {
   "cell_type": "code",
   "execution_count": 1,
   "id": "f99fea77",
   "metadata": {},
   "outputs": [],
   "source": [
    "from keras.datasets import mnist\n",
    "import numpy as np\n",
    "import pandas as pd\n",
    "import os, time\n",
    "import pickle, gzip\n",
    "\n",
    "import matplotlib.pyplot as plt\n",
    "import seaborn as sns\n",
    "color = sns.color_palette()\n",
    "import matplotlib as mpl\n",
    "\n",
    "%matplotlib inline\n",
    "\n",
    "from sklearn import preprocessing as pp\n",
    "from sklearn.model_selection import train_test_split\n",
    "from sklearn.metrics import precision_recall_curve, average_precision_score\n",
    "from sklearn.metrics import roc_curve, auc, roc_auc_score"
   ]
  },
  {
   "cell_type": "code",
   "execution_count": 2,
   "id": "095d9cc5",
   "metadata": {},
   "outputs": [
    {
     "name": "stdout",
     "output_type": "stream",
     "text": [
      "X_train: (60000, 28, 28)\n",
      "Y_train: (60000,)\n",
      "X_test:  (10000, 28, 28)\n",
      "Y_test:  (10000,)\n"
     ]
    }
   ],
   "source": [
    "# loading\n",
    "(X_train, y_train), (X_test, y_test) = mnist.load_data()\n",
    "\n",
    "#shape of dataset\n",
    "print('X_train: ' + str(X_train.shape))\n",
    "print('Y_train: ' + str(y_train.shape))\n",
    "print('X_test:  '  + str(X_test.shape))\n",
    "print('Y_test:  '  + str(y_test.shape))"
   ]
  },
  {
   "cell_type": "code",
   "execution_count": 3,
   "id": "03402076",
   "metadata": {},
   "outputs": [
    {
     "name": "stdout",
     "output_type": "stream",
     "text": [
      "X_train: (50000, 28, 28)\n",
      "Y_train: (50000,)\n",
      "X_validation: (10000, 28, 28)\n",
      "Y_validation: (10000,)\n",
      "X_train: (50000, 784)\n",
      "X_validation: (10000, 784)\n",
      "X_test: (10000, 784)\n"
     ]
    }
   ],
   "source": [
    "X_validation = X_train[50000:]\n",
    "y_validation = y_train[50000:]\n",
    "X_train = X_train[:50000]\n",
    "y_train = y_train[:50000]\n",
    "\n",
    "print('X_train: ' + str(X_train.shape))\n",
    "print('Y_train: ' + str(y_train.shape))\n",
    "print('X_validation: ' + str(X_validation.shape))\n",
    "print('Y_validation: ' + str(y_validation.shape))\n",
    "\n",
    "X_train = X_train.reshape(-1,28*28)\n",
    "X_validation = X_validation.reshape(-1, 28*28)\n",
    "X_test = X_test.reshape(-1, 28*28)\n",
    "\n",
    "print('X_train: ' + str(X_train.shape))\n",
    "print('X_validation: ' + str(X_validation.shape))\n",
    "print('X_test: ' + str(X_test.shape))"
   ]
  },
  {
   "cell_type": "code",
   "execution_count": 4,
   "id": "7ee807f9",
   "metadata": {},
   "outputs": [],
   "source": [
    "# 데이터셋으로부터 pandas data frame 생성\n",
    "train_index = range(0, len(X_train))\n",
    "validation_index = range(len(X_train), len(X_train)+len(X_validation))\n",
    "test_index = range(len(X_train)+len(X_validation), len(X_train)+len(X_validation)+len(X_test))\n",
    "\n",
    "X_train = pd.DataFrame(data = X_train, index = train_index)\n",
    "y_train = pd.Series(data = y_train, index=train_index)\n",
    "\n",
    "X_validation = pd.DataFrame(data=X_validation, index=validation_index)\n",
    "y_validation = pd.Series(data=y_validation, index=validation_index)\n",
    "\n",
    "X_test = pd.DataFrame(data=X_test, index=test_index)\n",
    "y_test = pd.Series(data=y_test, index=test_index)"
   ]
  },
  {
   "cell_type": "code",
   "execution_count": 5,
   "id": "98fc21ff",
   "metadata": {},
   "outputs": [],
   "source": [
    "from sklearn.decomposition import PCA\n",
    "\n",
    "n_components = 784\n",
    "whiten = False\n",
    "random_state=2018\n",
    "\n",
    "pca = PCA(n_components=n_components, whiten=whiten, random_state=random_state)\n",
    "\n",
    "X_train_PCA = pca.fit_transform(X_train)\n",
    "X_train_PCA = pd.DataFrame(data=X_train_PCA, index=train_index)"
   ]
  },
  {
   "cell_type": "code",
   "execution_count": 6,
   "id": "96915933",
   "metadata": {},
   "outputs": [],
   "source": [
    "def analyzeCluster(clusterDF, labelsDF):\n",
    "    countByCluster = pd.DataFrame(data=clusterDF['cluster'].value_counts())\n",
    "    countByCluster.reset_index(inplace=True, drop=False)\n",
    "    countByCluster.columns = ['cluster', 'clusterCount']\n",
    "    \n",
    "    preds = pd.concat([labelsDF, clusterDF], axis=1)\n",
    "    preds.columns = ['trueLabel', 'cluster']\n",
    "    \n",
    "    countByLabel = pd.DataFrame(data=preds.groupby('trueLabel').count())\n",
    "    \n",
    "    countMostFreq = pd.DataFrame(data=preds.groupby('cluster').agg(lambda x:x.value_counts().iloc[0])) # 가장 자주 발생하는 숫자의 개수\n",
    "    countMostFreq.reset_index(inplace=True, drop=False)\n",
    "    countMostFreq.columns = ['cluster', 'countMostFrequent']\n",
    "    \n",
    "    # 군집의 전체 정확도\n",
    "    accuracyDF = countMostFreq.merge(countByCluster, left_on=\"cluster\", right_on = \"cluster\")\n",
    "    overallAccuracy = accuracyDF.countMostFrequent.sum()/accuracyDF.clusterCount.sum()\n",
    "    # 모든 군집별로 가장 자주 발생하는 관측치 개수 합을 훈련셋의 총 관측치 개수로 나눈 값\n",
    "    \n",
    "    accuracyByLabel = accuracyDF.countMostFrequent/accuracyDF.clusterCount\n",
    "    \n",
    "    return countByCluster, countByLabel, countMostFreq, accuracyDF, overallAccuracy, accuracyByLabel"
   ]
  },
  {
   "cell_type": "markdown",
   "id": "4ef0c52a",
   "metadata": {},
   "source": [
    "### DBSCAN\n",
    "- 노이즈 응용 밀도 기반 공간 클러스터링(density-based spatial clustering of applications with noise : DBSCAN)\n",
    "- 데이터 포인트의 밀도에 따라 그룹화한다.\n",
    "- eps(최대 거리)와 min_samples(최소 샘플) 설정 필요"
   ]
  },
  {
   "cell_type": "code",
   "execution_count": 8,
   "id": "6d5f4030",
   "metadata": {},
   "outputs": [
    {
     "data": {
      "text/plain": [
       "0.11356"
      ]
     },
     "execution_count": 8,
     "metadata": {},
     "output_type": "execute_result"
    }
   ],
   "source": [
    "from sklearn.cluster import DBSCAN\n",
    "\n",
    "eps = 3\n",
    "min_samples = 5\n",
    "leaf_size = 30\n",
    "n_jobs = 4\n",
    "\n",
    "db = DBSCAN(eps=eps, min_samples=min_samples, leaf_size=leaf_size, n_jobs=n_jobs)\n",
    "\n",
    "cutoff=99\n",
    "X_train_PCA_dbscanClustered = db.fit_predict(X_train_PCA.loc[:, 0:cutoff])\n",
    "X_train_PCA_dbscanClustered = pd.DataFrame(data=X_train_PCA_dbscanClustered, index=X_train.index, columns=['cluster'])\n",
    "\n",
    "countByCluster_dbscan, countByLabel_dbscan, countMostFreq_dbscan, accuracyDF_dbscan,\\\n",
    "overallAccuracy_dbscan, accuracyByLabel_dbscan = analyzeCluster(X_train_PCA_dbscanClustered, y_train)\n",
    "\n",
    "overallAccuracy_dbscan"
   ]
  },
  {
   "cell_type": "markdown",
   "id": "31de3158",
   "metadata": {},
   "source": [
    "- DBSCAN은 이 데이터셋의 관측치를 클러스터링하는 데 적합하지 않음"
   ]
  },
  {
   "cell_type": "code",
   "execution_count": 9,
   "id": "5cb58499",
   "metadata": {},
   "outputs": [
    {
     "data": {
      "text/html": [
       "<div>\n",
       "<style scoped>\n",
       "    .dataframe tbody tr th:only-of-type {\n",
       "        vertical-align: middle;\n",
       "    }\n",
       "\n",
       "    .dataframe tbody tr th {\n",
       "        vertical-align: top;\n",
       "    }\n",
       "\n",
       "    .dataframe thead th {\n",
       "        text-align: right;\n",
       "    }\n",
       "</style>\n",
       "<table border=\"1\" class=\"dataframe\">\n",
       "  <thead>\n",
       "    <tr style=\"text-align: right;\">\n",
       "      <th></th>\n",
       "      <th>cluster</th>\n",
       "      <th>clusterCount</th>\n",
       "    </tr>\n",
       "  </thead>\n",
       "  <tbody>\n",
       "    <tr>\n",
       "      <th>0</th>\n",
       "      <td>-1</td>\n",
       "      <td>50000</td>\n",
       "    </tr>\n",
       "  </tbody>\n",
       "</table>\n",
       "</div>"
      ],
      "text/plain": [
       "   cluster  clusterCount\n",
       "0       -1         50000"
      ]
     },
     "execution_count": 9,
     "metadata": {},
     "output_type": "execute_result"
    }
   ],
   "source": [
    "countByCluster_dbscan"
   ]
  },
  {
   "cell_type": "markdown",
   "id": "0ec46dce",
   "metadata": {},
   "source": [
    "### HDBSCAN\n",
    "- 계층적 노이즈 응용 밀도 기반 공간 클러스터링(HDBSCAN) 또는 계층적 DBSCAN으로 알려져 있다. \n",
    "- 밀도를 기반으로 그룹화하고 계층적 클러스터링 알고리즘첯럼 거리를 기준으로 밀도 기반 군집을 반복적으로 연결한다.\n",
    "- min_samples를 none으로 설정하면 min_cluster_size로 기본 설정 된다,"
   ]
  },
  {
   "cell_type": "code",
   "execution_count": 17,
   "id": "36aaaadb",
   "metadata": {},
   "outputs": [
    {
     "data": {
      "text/plain": [
       "0.24696"
      ]
     },
     "execution_count": 17,
     "metadata": {},
     "output_type": "execute_result"
    }
   ],
   "source": [
    "import hdbscan\n",
    "min_cluster_size = 30\n",
    "min_samples = None\n",
    "alpha = 1.0\n",
    "cluster_selection_method = 'eom'\n",
    "\n",
    "hdb = hdbscan.HDBSCAN(min_cluster_size = min_cluster_size, min_samples = min_samples,\n",
    "                      alpha = alpha, cluster_selection_method = cluster_selection_method)\n",
    "\n",
    "cutoff = 10\n",
    "X_train_PCA_hdbscanClustered = hdb.fit_predict(X_train_PCA.loc[:, 0:cutoff])\n",
    "\n",
    "X_train_PCA_hdbscanClustered = pd.DataFrame(data=X_train_PCA_hdbscanClustered, index = X_train.index, columns = ['cluster'])\n",
    "\n",
    "countByCluster_hdbscan, countByLabel_hdbscan, countMostFreq_hdbscan, accuracyDF_hdbscan,\\\n",
    "overallAccuracy_hdbscan, accuracyByLabel_hdbscan = analyzeCluster(X_train_PCA_hdbscanClustered, y_train)\n",
    "\n",
    "overallAccuracy_hdbscan"
   ]
  },
  {
   "cell_type": "code",
   "execution_count": 18,
   "id": "d1988804",
   "metadata": {},
   "outputs": [
    {
     "data": {
      "text/html": [
       "<div>\n",
       "<style scoped>\n",
       "    .dataframe tbody tr th:only-of-type {\n",
       "        vertical-align: middle;\n",
       "    }\n",
       "\n",
       "    .dataframe tbody tr th {\n",
       "        vertical-align: top;\n",
       "    }\n",
       "\n",
       "    .dataframe thead th {\n",
       "        text-align: right;\n",
       "    }\n",
       "</style>\n",
       "<table border=\"1\" class=\"dataframe\">\n",
       "  <thead>\n",
       "    <tr style=\"text-align: right;\">\n",
       "      <th></th>\n",
       "      <th>cluster</th>\n",
       "      <th>clusterCount</th>\n",
       "    </tr>\n",
       "  </thead>\n",
       "  <tbody>\n",
       "    <tr>\n",
       "      <th>0</th>\n",
       "      <td>-1</td>\n",
       "      <td>42570</td>\n",
       "    </tr>\n",
       "    <tr>\n",
       "      <th>1</th>\n",
       "      <td>4</td>\n",
       "      <td>5140</td>\n",
       "    </tr>\n",
       "    <tr>\n",
       "      <th>2</th>\n",
       "      <td>7</td>\n",
       "      <td>942</td>\n",
       "    </tr>\n",
       "    <tr>\n",
       "      <th>3</th>\n",
       "      <td>0</td>\n",
       "      <td>605</td>\n",
       "    </tr>\n",
       "    <tr>\n",
       "      <th>4</th>\n",
       "      <td>6</td>\n",
       "      <td>295</td>\n",
       "    </tr>\n",
       "    <tr>\n",
       "      <th>5</th>\n",
       "      <td>3</td>\n",
       "      <td>252</td>\n",
       "    </tr>\n",
       "    <tr>\n",
       "      <th>6</th>\n",
       "      <td>1</td>\n",
       "      <td>119</td>\n",
       "    </tr>\n",
       "    <tr>\n",
       "      <th>7</th>\n",
       "      <td>5</td>\n",
       "      <td>45</td>\n",
       "    </tr>\n",
       "    <tr>\n",
       "      <th>8</th>\n",
       "      <td>2</td>\n",
       "      <td>32</td>\n",
       "    </tr>\n",
       "  </tbody>\n",
       "</table>\n",
       "</div>"
      ],
      "text/plain": [
       "   cluster  clusterCount\n",
       "0       -1         42570\n",
       "1        4          5140\n",
       "2        7           942\n",
       "3        0           605\n",
       "4        6           295\n",
       "5        3           252\n",
       "6        1           119\n",
       "7        5            45\n",
       "8        2            32"
      ]
     },
     "execution_count": 18,
     "metadata": {},
     "output_type": "execute_result"
    }
   ],
   "source": [
    "countByCluster_hdbscan"
   ]
  },
  {
   "cell_type": "markdown",
   "id": "ef716172",
   "metadata": {},
   "source": [
    "- 포인트 대부분은 클러스터링되지 않았고 그 이후부터는 작은 크기의 군집들이 long tail을 이룬다."
   ]
  },
  {
   "cell_type": "code",
   "execution_count": null,
   "id": "2f417b96",
   "metadata": {},
   "outputs": [],
   "source": []
  },
  {
   "cell_type": "code",
   "execution_count": null,
   "id": "6e4b9a18",
   "metadata": {},
   "outputs": [],
   "source": []
  },
  {
   "cell_type": "code",
   "execution_count": null,
   "id": "7cc03a23",
   "metadata": {},
   "outputs": [],
   "source": []
  },
  {
   "cell_type": "code",
   "execution_count": null,
   "id": "70cfd147",
   "metadata": {},
   "outputs": [],
   "source": []
  },
  {
   "cell_type": "code",
   "execution_count": null,
   "id": "49565dc4",
   "metadata": {},
   "outputs": [],
   "source": []
  },
  {
   "cell_type": "code",
   "execution_count": null,
   "id": "aa705945",
   "metadata": {},
   "outputs": [],
   "source": []
  },
  {
   "cell_type": "code",
   "execution_count": null,
   "id": "58e370f4",
   "metadata": {},
   "outputs": [],
   "source": []
  },
  {
   "cell_type": "code",
   "execution_count": null,
   "id": "d0f89701",
   "metadata": {},
   "outputs": [],
   "source": []
  },
  {
   "cell_type": "code",
   "execution_count": null,
   "id": "8bd9f86b",
   "metadata": {},
   "outputs": [],
   "source": []
  },
  {
   "cell_type": "code",
   "execution_count": null,
   "id": "77b601ae",
   "metadata": {},
   "outputs": [],
   "source": []
  },
  {
   "cell_type": "code",
   "execution_count": null,
   "id": "3135ba20",
   "metadata": {},
   "outputs": [],
   "source": []
  },
  {
   "cell_type": "code",
   "execution_count": null,
   "id": "bc6ff544",
   "metadata": {},
   "outputs": [],
   "source": []
  },
  {
   "cell_type": "code",
   "execution_count": null,
   "id": "8b514e38",
   "metadata": {},
   "outputs": [],
   "source": []
  },
  {
   "cell_type": "code",
   "execution_count": null,
   "id": "60d70a8e",
   "metadata": {},
   "outputs": [],
   "source": []
  },
  {
   "cell_type": "code",
   "execution_count": null,
   "id": "3e03147d",
   "metadata": {},
   "outputs": [],
   "source": []
  },
  {
   "cell_type": "code",
   "execution_count": null,
   "id": "9de04f2e",
   "metadata": {},
   "outputs": [],
   "source": []
  },
  {
   "cell_type": "code",
   "execution_count": null,
   "id": "b90aa1ed",
   "metadata": {},
   "outputs": [],
   "source": []
  },
  {
   "cell_type": "code",
   "execution_count": null,
   "id": "e879db46",
   "metadata": {},
   "outputs": [],
   "source": []
  },
  {
   "cell_type": "code",
   "execution_count": null,
   "id": "fd24d3a1",
   "metadata": {},
   "outputs": [],
   "source": []
  },
  {
   "cell_type": "code",
   "execution_count": null,
   "id": "743b9225",
   "metadata": {},
   "outputs": [],
   "source": []
  },
  {
   "cell_type": "code",
   "execution_count": null,
   "id": "9c3e2d69",
   "metadata": {},
   "outputs": [],
   "source": []
  },
  {
   "cell_type": "code",
   "execution_count": null,
   "id": "ea7a7747",
   "metadata": {},
   "outputs": [],
   "source": []
  },
  {
   "cell_type": "code",
   "execution_count": null,
   "id": "153371ad",
   "metadata": {},
   "outputs": [],
   "source": []
  },
  {
   "cell_type": "code",
   "execution_count": null,
   "id": "ead462b5",
   "metadata": {},
   "outputs": [],
   "source": []
  },
  {
   "cell_type": "code",
   "execution_count": null,
   "id": "599e162a",
   "metadata": {},
   "outputs": [],
   "source": []
  },
  {
   "cell_type": "code",
   "execution_count": null,
   "id": "98c3c67d",
   "metadata": {},
   "outputs": [],
   "source": []
  },
  {
   "cell_type": "code",
   "execution_count": null,
   "id": "813f0cdb",
   "metadata": {},
   "outputs": [],
   "source": []
  },
  {
   "cell_type": "code",
   "execution_count": null,
   "id": "ef6fe97a",
   "metadata": {},
   "outputs": [],
   "source": []
  },
  {
   "cell_type": "code",
   "execution_count": null,
   "id": "bc102a2b",
   "metadata": {},
   "outputs": [],
   "source": []
  },
  {
   "cell_type": "code",
   "execution_count": null,
   "id": "5b65f272",
   "metadata": {},
   "outputs": [],
   "source": []
  }
 ],
 "metadata": {
  "kernelspec": {
   "display_name": "Python 3 (ipykernel)",
   "language": "python",
   "name": "python3"
  },
  "language_info": {
   "codemirror_mode": {
    "name": "ipython",
    "version": 3
   },
   "file_extension": ".py",
   "mimetype": "text/x-python",
   "name": "python",
   "nbconvert_exporter": "python",
   "pygments_lexer": "ipython3",
   "version": "3.9.7"
  }
 },
 "nbformat": 4,
 "nbformat_minor": 5
}
